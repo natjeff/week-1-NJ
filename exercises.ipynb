{
 "cells": [
  {
   "cell_type": "markdown",
   "id": "76ad444f",
   "metadata": {},
   "source": [
    "<font color='darkred'> Unless otherwise noted, **this notebook will not be reviewed or autograded.**</font> You are welcome to use it for scratchwork, but **only the files listed in the exercises will be checked.**\n",
    "\n",
    "---\n",
    "\n",
    "# Exercises\n",
    "\n",
    "For these exercises, add your functions to the *apputil\\.py* file. If you like, you're welcome to adjust the *app\\.py* file, but it is not required.\n",
    "\n",
    "## Exercise 1\n",
    "\n",
    "Create a function `palindrome(word)` that receives a string and returns `True` or `False` depending on whether it is a palindrome.  A palindrome is a word, phrase, or sequence that reads the same backward as forward. Examples of palindromes are `racecar` and `Nurses Run`. This function can be case *insensitive*, and it should ignore spaces and punctuation.\n",
    "\n",
    "- Take a look at the `.lower()` and `.replace(\",\")` methods on a string.\n",
    "- Think about how you can reverse a string\n",
    "\n",
    "**A few test cases:**\n",
    "\n",
    "- `racecar`\n",
    "- `Nurses Run`\n",
    "- `Sit on a potato pan, Otis.`"
   ]
  },
  {
   "cell_type": "code",
   "execution_count": 6,
   "id": "4d0fd3fe",
   "metadata": {},
   "outputs": [
    {
     "name": "stdout",
     "output_type": "stream",
     "text": [
      "True\n",
      "True\n",
      "False\n",
      "True\n"
     ]
    }
   ],
   "source": [
    "import string\n",
    "\n",
    "def palindrome(word: str) -> bool:\n",
    "    # Remove spaces and punctuation\n",
    "    cleaned = \"\".join(ch.lower() for ch in word if ch.isalnum())\n",
    "    \n",
    "#   Check palindrome\n",
    "    return cleaned == cleaned[::-1]\n",
    "\n",
    "\n",
    "# Test Cases\n",
    "print(palindrome(\"racecar\"))      # True\n",
    "print(palindrome(\"Nurses Run\"))   # True\n",
    "print(palindrome(\"Hello\"))        # False\n",
    "print(palindrome(\"Sit on a potato pan, Otis\"))  # True\n",
    "\n",
    "\n",
    "\n"
   ]
  },
  {
   "cell_type": "markdown",
   "id": "d6d15685",
   "metadata": {},
   "source": [
    "## exercise 2\n",
    "\n",
    "In programming languages, and especially in [LISP](https://en.wikipedia.org/wiki/Lisp_(programming_language)), there can be a lot of parentheses. The parentheses have to be \"balanced\" to be valid. For example, `()(())` is balanced, but `()())` is not balanced. Also, `)((())` is not balanced. (Think mathematics.)\n",
    "\n",
    "Write a function `parentheses(sequence)` that takes a string and returns `True` if the string's parentheses are balanced, `False` if they are not.\n",
    "\n",
    "*Once you are finished, see if you can come up with a second way to solve the problem.*\n",
    "\n",
    "> Give [Python Tutor](https://pythontutor.com/) a try this week! It can be a helpful tool for debugging Python :).\n",
    "\n",
    "**Test Cases:**\n",
    "\n",
    " * `((blah)()()())` should return `True`\n",
    " * `(((())blee))` should return `True`\n",
    " * `(()hello((())()))` should return `True`\n",
    " * `((((((())` should return `False`\n",
    " * `()))` should return `False`"
   ]
  },
  {
   "cell_type": "code",
   "execution_count": 7,
   "id": "396c9c08",
   "metadata": {},
   "outputs": [
    {
     "name": "stdout",
     "output_type": "stream",
     "text": [
      "True\n",
      "True\n",
      "True\n",
      "False\n",
      "False\n"
     ]
    }
   ],
   "source": [
    "def parentheses(sequence):\n",
    "    count = 0\n",
    "    for char in sequence:\n",
    "        if char == '(':\n",
    "            count += 1\n",
    "        elif char == ')':\n",
    "            count -= 1\n",
    "            if count < 0:\n",
    "                return False\n",
    "    return count == 0\n",
    "\n",
    "# Test Cases\n",
    "print(parentheses(\"((blah)()()())\"))      # True\n",
    "print(parentheses(\"(((())blee))\"))        # True\n",
    "print(parentheses(\"(()hello((())()))\"))   # True\n",
    "print(parentheses(\"((((((())\"))           # False\n",
    "print(parentheses(\"()))\"))                # False"
   ]
  }
 ],
 "metadata": {
  "kernelspec": {
   "display_name": "base",
   "language": "python",
   "name": "python3"
  },
  "language_info": {
   "codemirror_mode": {
    "name": "ipython",
    "version": 3
   },
   "file_extension": ".py",
   "mimetype": "text/x-python",
   "name": "python",
   "nbconvert_exporter": "python",
   "pygments_lexer": "ipython3",
   "version": "3.11.11"
  }
 },
 "nbformat": 4,
 "nbformat_minor": 5
}
